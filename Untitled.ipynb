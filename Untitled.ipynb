{
 "cells": [
  {
   "cell_type": "code",
   "execution_count": 1,
   "metadata": {},
   "outputs": [
    {
     "data": {
      "text/plain": [
       "{b'refs/heads/master': b'b5f55f56b278c83946b2a5815a4c20bda9549cb7'}"
      ]
     },
     "execution_count": 1,
     "metadata": {},
     "output_type": "execute_result"
    }
   ],
   "source": [
    "import os\n",
    "from gittle import Gittle\n",
    "from dulwich.repo import Repo\n",
    "\n",
    "\n",
    "\n",
    "origin_uris=\"https://github.com/fengfeng0918/RometeNotes.git\"\n",
    "path = os.getcwd()\n",
    "\n",
    "# Gittle.clone() 会将当前目录下的文件下载到本地，并初始化git工作路径，上传文件正常\n",
    "# repo = Gittle.clone(\"https://github.com/fengfeng0918/gittle.git\", path)\n",
    "# Gittle.init() 初始化git工作路径，并没有将远程仓库信息拉到本地，上传（push）文件时会将远程库清空\n",
    "# repo = Gittle.init(path,origin_uri=\"https://github.com/fengfeng0918/gittle.git\")\n",
    "\n",
    "# git init  以下流程正常！！！\n",
    "if not os.path.exists(\".git\"):\n",
    "    local_repo = Gittle.init(path)\n",
    "    bares = False   #不会删除远端,重写本地\n",
    "else:\n",
    "    local_repo = Repo(path)\n",
    "    bares = True  # 不会删除远端,不重写本地\n",
    "\n",
    "repo =  Gittle(local_repo,origin_uris)\n",
    "repo.fetch(bare=bares)\n",
    "\n",
    "\n",
    "\n",
    "# Stage file\n",
    "fn = ['untitled.']\n",
    "repo.add(fn)\n",
    "\n",
    "# Commiting\n",
    "repo.commit(name='fengfeng0918', email='527282351@qq.com', message=\"This is a commit\",files=fn)\n",
    "\n",
    "repo.add_remote('origin',origin_uris)\n",
    "# Auth for pushing\n",
    "repo.auth(username=\"fengfeng0918\", password=\"fp@19920503\")\n",
    "\n",
    "# Push\n",
    "repo.push()"
   ]
  },
  {
   "cell_type": "code",
   "execution_count": null,
   "metadata": {},
   "outputs": [],
   "source": []
  }
 ],
 "metadata": {
  "kernelspec": {
   "display_name": "Python 3",
   "language": "python",
   "name": "python3"
  },
  "language_info": {
   "codemirror_mode": {
    "name": "ipython",
    "version": 3
   },
   "file_extension": ".py",
   "mimetype": "text/x-python",
   "name": "python",
   "nbconvert_exporter": "python",
   "pygments_lexer": "ipython3",
   "version": "3.7.3"
  }
 },
 "nbformat": 4,
 "nbformat_minor": 2
}
