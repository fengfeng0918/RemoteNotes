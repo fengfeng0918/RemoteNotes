{
 "cells": [
  {
   "cell_type": "code",
   "execution_count": null,
   "metadata": {},
   "outputs": [],
   "source": [
    "from gittle import GitUpload\n",
    "file = \"untitled.txt\"\n",
    "name = \"fengfeng0918\"\n",
    "email = \"527282351@qq.com\"\n",
    "password = \"******\"\n",
    "Repository = \"RemoteNotes\"\n",
    "GitUpload(file, name, email, password, Repository)"
   ]
  }
 ],
 "metadata": {
  "kernelspec": {
   "display_name": "Python 3",
   "language": "python",
   "name": "python3"
  },
  "language_info": {
   "codemirror_mode": {
    "name": "ipython",
    "version": 3
   },
   "file_extension": ".py",
   "mimetype": "text/x-python",
   "name": "python",
   "nbconvert_exporter": "python",
   "pygments_lexer": "ipython3",
   "version": "3.7.3"
  }
 },
 "nbformat": 4,
 "nbformat_minor": 2
}
