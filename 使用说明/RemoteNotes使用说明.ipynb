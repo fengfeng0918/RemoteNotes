{
 "cells": [
  {
   "cell_type": "markdown",
   "metadata": {},
   "source": [
    "# 1. 创建jupyter notebook\n",
    "- 打开[mybinder]([http://mybinder.org)\n",
    "- 粘贴该仓库连接至`GitHub repository name or URL`\n",
    "- 点击`lunch`运行\n",
    "\n",
    "# 2. 创建笔记\n",
    "利用jupyter notebook进行各种文件创建，编辑，保存等。\n",
    "若要创建文件夹，最后上传文件的时候需要将文件夹的路径带上。\n",
    "\n",
    "# 3. 上传到github\n",
    "运行以下代码可自动上传到Github。其中内容自行更改。\n",
    "\n",
    "```python\n",
    "from gittle import GitUpload\n",
    "file = \"untitled.txt\"\n",
    "# file = \"dir/filename\"  #带文件夹\n",
    "# file = [\"file1\", \"file2\",...] # 多个文件，不支持通配\n",
    "name = \"fengfeng0918\"\n",
    "email = \"527282351@qq.com\"\n",
    "password = \"******\"\n",
    "Repository = \"RemoteNotes\"\n",
    "GitUpload(file, name, email, password, Repository)\n",
    "\n",
    "```\n",
    "\n",
    "# 注意：若不运行所有创建的文件在关闭mybinder后全部丢失**\n"
   ]
  },
  {
   "cell_type": "code",
   "execution_count": null,
   "metadata": {},
   "outputs": [],
   "source": [
    "from gittle import GitUpload\n",
    "file = \"untitled.txt\"\n",
    "name = \"fengfeng0918\"\n",
    "email = \"527282351@qq.com\"\n",
    "password = \"******\"\n",
    "Repository = \"RemoteNotes\"\n",
    "GitUpload(file, name, email, password, Repository)"
   ]
  },
  {
   "cell_type": "code",
   "execution_count": null,
   "metadata": {},
   "outputs": [],
   "source": []
  }
 ],
 "metadata": {
  "kernelspec": {
   "display_name": "Python 3",
   "language": "python",
   "name": "python3"
  },
  "language_info": {
   "codemirror_mode": {
    "name": "ipython",
    "version": 3
   },
   "file_extension": ".py",
   "mimetype": "text/x-python",
   "name": "python",
   "nbconvert_exporter": "python",
   "pygments_lexer": "ipython3",
   "version": "3.7.3"
  }
 },
 "nbformat": 4,
 "nbformat_minor": 2
}
